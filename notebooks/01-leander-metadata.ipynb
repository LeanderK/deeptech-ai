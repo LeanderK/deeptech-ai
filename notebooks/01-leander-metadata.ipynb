{
 "cells": [
  {
   "cell_type": "markdown",
   "metadata": {},
   "source": [
    "# metadata exploration"
   ]
  },
  {
   "cell_type": "code",
   "execution_count": 15,
   "metadata": {},
   "outputs": [
    {
     "data": {
      "text/html": [
       "<div>\n",
       "<style scoped>\n",
       "    .dataframe tbody tr th:only-of-type {\n",
       "        vertical-align: middle;\n",
       "    }\n",
       "\n",
       "    .dataframe tbody tr th {\n",
       "        vertical-align: top;\n",
       "    }\n",
       "\n",
       "    .dataframe thead th {\n",
       "        text-align: right;\n",
       "    }\n",
       "</style>\n",
       "<table border=\"1\" class=\"dataframe\">\n",
       "  <thead>\n",
       "    <tr style=\"text-align: right;\">\n",
       "      <th></th>\n",
       "      <th>url</th>\n",
       "      <th>section</th>\n",
       "      <th>code</th>\n",
       "    </tr>\n",
       "  </thead>\n",
       "  <tbody>\n",
       "    <tr>\n",
       "      <th>0</th>\n",
       "      <td>www.hoberg-driesch.de</td>\n",
       "      <td>L</td>\n",
       "      <td>68.31</td>\n",
       "    </tr>\n",
       "    <tr>\n",
       "      <th>1</th>\n",
       "      <td>www.hgdf.de</td>\n",
       "      <td>K</td>\n",
       "      <td>64.20</td>\n",
       "    </tr>\n",
       "    <tr>\n",
       "      <th>2</th>\n",
       "      <td>www.gasag.de</td>\n",
       "      <td>D</td>\n",
       "      <td>35.30</td>\n",
       "    </tr>\n",
       "    <tr>\n",
       "      <th>3</th>\n",
       "      <td>www.ergodirekt.de</td>\n",
       "      <td>K</td>\n",
       "      <td>65.11</td>\n",
       "    </tr>\n",
       "    <tr>\n",
       "      <th>4</th>\n",
       "      <td>www.wahler.de</td>\n",
       "      <td>M</td>\n",
       "      <td>70.10</td>\n",
       "    </tr>\n",
       "  </tbody>\n",
       "</table>\n",
       "</div>"
      ],
      "text/plain": [
       "                     url section   code\n",
       "0  www.hoberg-driesch.de       L  68.31\n",
       "1            www.hgdf.de       K  64.20\n",
       "2           www.gasag.de       D  35.30\n",
       "3      www.ergodirekt.de       K  65.11\n",
       "4          www.wahler.de       M  70.10"
      ]
     },
     "execution_count": 15,
     "metadata": {},
     "output_type": "execute_result"
    }
   ],
   "source": [
    "import pandas as pd\n",
    "datas = []\n",
    "for i in range(0,10):\n",
    "    datas.append(pd.read_csv(\"../data/raw/metadata\" + str(i) + \".csv\", header=None, index_col=0))\n",
    "all_met =pd.concat(datas, sort=False)\n",
    "import ast\n",
    "all_met[1] = all_met[1].apply(ast.literal_eval)\n",
    "all_met[[\"abstract\", \"description\", \"keywords\", \"crashed\"]] = all_met[1].apply(pd.Series)\n",
    "#crashed is always false\n",
    "all_met = all_met.drop(['crashed'], axis=1)\n",
    "\n",
    "headers_dom = ['url', 'section', 'code']\n",
    "dom = pd.read_csv('../data/raw/20181018 Domain+WZ2008 Hackathon INOBAS.csv', sep=';', names=headers_dom, encoding='latin-1', skiprows=1)\n",
    "\n",
    "dom.head()"
   ]
  },
  {
   "cell_type": "code",
   "execution_count": 16,
   "metadata": {},
   "outputs": [
    {
     "data": {
      "text/plain": [
       "(10779, 3)"
      ]
     },
     "execution_count": 16,
     "metadata": {},
     "output_type": "execute_result"
    }
   ],
   "source": [
    "dom.shape"
   ]
  },
  {
   "cell_type": "code",
   "execution_count": 17,
   "metadata": {},
   "outputs": [],
   "source": [
    "all_df = pd.concat([dom, all_met], axis=1, sort=False)"
   ]
  },
  {
   "cell_type": "code",
   "execution_count": 18,
   "metadata": {},
   "outputs": [],
   "source": [
    "def map_keywords(keywords):\n",
    "    return [y.strip() for y in keywords.split(\",\")]\n",
    "all_df['keywords'] = all_df['keywords'].apply(map_keywords)"
   ]
  },
  {
   "cell_type": "code",
   "execution_count": 20,
   "metadata": {},
   "outputs": [
    {
     "data": {
      "text/html": [
       "<div>\n",
       "<style scoped>\n",
       "    .dataframe tbody tr th:only-of-type {\n",
       "        vertical-align: middle;\n",
       "    }\n",
       "\n",
       "    .dataframe tbody tr th {\n",
       "        vertical-align: top;\n",
       "    }\n",
       "\n",
       "    .dataframe thead th {\n",
       "        text-align: right;\n",
       "    }\n",
       "</style>\n",
       "<table border=\"1\" class=\"dataframe\">\n",
       "  <thead>\n",
       "    <tr style=\"text-align: right;\">\n",
       "      <th></th>\n",
       "      <th>url</th>\n",
       "      <th>section</th>\n",
       "      <th>code</th>\n",
       "      <th>1</th>\n",
       "      <th>abstract</th>\n",
       "      <th>description</th>\n",
       "      <th>keywords</th>\n",
       "    </tr>\n",
       "  </thead>\n",
       "  <tbody>\n",
       "    <tr>\n",
       "      <th>0</th>\n",
       "      <td>www.hoberg-driesch.de</td>\n",
       "      <td>L</td>\n",
       "      <td>68.31</td>\n",
       "      <td>(Qualitätsstahlrohre von Hoberg &amp; Driesch. Von...</td>\n",
       "      <td>Qualitätsstahlrohre von Hoberg &amp; Driesch. Von ...</td>\n",
       "      <td>Hoberg &amp; Driesch GmbH &amp; Co. KG ist eines der f...</td>\n",
       "      <td>[Röhrengrosshandel, Starkwandrohre, Normalwand...</td>\n",
       "    </tr>\n",
       "    <tr>\n",
       "      <th>1</th>\n",
       "      <td>www.hgdf.de</td>\n",
       "      <td>K</td>\n",
       "      <td>64.20</td>\n",
       "      <td>(, , , False)</td>\n",
       "      <td></td>\n",
       "      <td></td>\n",
       "      <td>[]</td>\n",
       "    </tr>\n",
       "    <tr>\n",
       "      <th>2</th>\n",
       "      <td>www.gasag.de</td>\n",
       "      <td>D</td>\n",
       "      <td>35.30</td>\n",
       "      <td>(, Bei der GASAG finden Sie die richtigen Stro...</td>\n",
       "      <td></td>\n",
       "      <td>Bei der GASAG finden Sie die richtigen Strom- ...</td>\n",
       "      <td>[Strom, Erdgas, Wärme, Privatkunden, Stromvert...</td>\n",
       "    </tr>\n",
       "    <tr>\n",
       "      <th>3</th>\n",
       "      <td>www.ergodirekt.de</td>\n",
       "      <td>K</td>\n",
       "      <td>65.11</td>\n",
       "      <td>(, ERGO Direkt ist meistgewählter Direktversic...</td>\n",
       "      <td></td>\n",
       "      <td>ERGO Direkt ist meistgewählter Direktversicher...</td>\n",
       "      <td>[]</td>\n",
       "    </tr>\n",
       "    <tr>\n",
       "      <th>4</th>\n",
       "      <td>www.wahler.de</td>\n",
       "      <td>M</td>\n",
       "      <td>70.10</td>\n",
       "      <td>(, , , False)</td>\n",
       "      <td></td>\n",
       "      <td></td>\n",
       "      <td>[]</td>\n",
       "    </tr>\n",
       "  </tbody>\n",
       "</table>\n",
       "</div>"
      ],
      "text/plain": [
       "                     url section   code  \\\n",
       "0  www.hoberg-driesch.de       L  68.31   \n",
       "1            www.hgdf.de       K  64.20   \n",
       "2           www.gasag.de       D  35.30   \n",
       "3      www.ergodirekt.de       K  65.11   \n",
       "4          www.wahler.de       M  70.10   \n",
       "\n",
       "                                                   1  \\\n",
       "0  (Qualitätsstahlrohre von Hoberg & Driesch. Von...   \n",
       "1                                      (, , , False)   \n",
       "2  (, Bei der GASAG finden Sie die richtigen Stro...   \n",
       "3  (, ERGO Direkt ist meistgewählter Direktversic...   \n",
       "4                                      (, , , False)   \n",
       "\n",
       "                                            abstract  \\\n",
       "0  Qualitätsstahlrohre von Hoberg & Driesch. Von ...   \n",
       "1                                                      \n",
       "2                                                      \n",
       "3                                                      \n",
       "4                                                      \n",
       "\n",
       "                                         description  \\\n",
       "0  Hoberg & Driesch GmbH & Co. KG ist eines der f...   \n",
       "1                                                      \n",
       "2  Bei der GASAG finden Sie die richtigen Strom- ...   \n",
       "3  ERGO Direkt ist meistgewählter Direktversicher...   \n",
       "4                                                      \n",
       "\n",
       "                                            keywords  \n",
       "0  [Röhrengrosshandel, Starkwandrohre, Normalwand...  \n",
       "1                                                 []  \n",
       "2  [Strom, Erdgas, Wärme, Privatkunden, Stromvert...  \n",
       "3                                                 []  \n",
       "4                                                 []  "
      ]
     },
     "execution_count": 20,
     "metadata": {},
     "output_type": "execute_result"
    }
   ],
   "source": [
    "all_df.head()"
   ]
  },
  {
   "cell_type": "code",
   "execution_count": null,
   "metadata": {},
   "outputs": [],
   "source": []
  }
 ],
 "metadata": {
  "kernelspec": {
   "display_name": "Python 3",
   "language": "python",
   "name": "python3"
  },
  "language_info": {
   "codemirror_mode": {
    "name": "ipython",
    "version": 3
   },
   "file_extension": ".py",
   "mimetype": "text/x-python",
   "name": "python",
   "nbconvert_exporter": "python",
   "pygments_lexer": "ipython3",
   "version": "3.6.5"
  }
 },
 "nbformat": 4,
 "nbformat_minor": 2
}

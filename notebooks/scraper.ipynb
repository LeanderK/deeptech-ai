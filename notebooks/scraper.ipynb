{
 "cells": [
  {
   "cell_type": "code",
   "execution_count": null,
   "metadata": {},
   "outputs": [],
   "source": [
    "import requests\n",
    "from lxml import html\n",
    "import re\n",
    "import csv\n",
    "import pandas as pd"
   ]
  },
  {
   "cell_type": "code",
   "execution_count": null,
   "metadata": {},
   "outputs": [],
   "source": [
    "def read_url(url):\n",
    "    url = \"http://\" + url\n",
    "    page = requests.get(url)\n",
    "    content = str(page.content)\n",
    "    w_page = html.fromstring(content)\n",
    "    w_pages = w_page.xpath(\"//a/@href\")\n",
    "    \n",
    "    title_start = re.search('<title>', content).end()\n",
    "    content_title_1 = content[title_start:]\n",
    "    title_end = re.search('</title>', content_title_1).start()\n",
    "    content_title_2 = content_title_1[:title_end]\n",
    "    company_name = content_title_2\n",
    "    \n",
    "    return company_name"
   ]
  },
  {
   "cell_type": "code",
   "execution_count": null,
   "metadata": {},
   "outputs": [],
   "source": [
    "print(read_url(\"www.baeckerei-grobe.de/\"))"
   ]
  },
  {
   "cell_type": "code",
   "execution_count": null,
   "metadata": {},
   "outputs": [],
   "source": [
    "data = pd.read_csv('20181018 Domain+WZ2008 Hackathon INOBAS.csv', sep=';', encoding='latin1', names=['Domain', 'Section', 'Code'])\n",
    "# print(data.head())"
   ]
  },
  {
   "cell_type": "code",
   "execution_count": null,
   "metadata": {},
   "outputs": [],
   "source": [
    "company_urls = []\n",
    "\n",
    "for index, row in data.iterrows():\n",
    "#     print(index, row['Domain'])\n",
    "    company_urls.append(row['Domain'])"
   ]
  },
  {
   "cell_type": "code",
   "execution_count": null,
   "metadata": {},
   "outputs": [],
   "source": [
    "print(len(company_urls))"
   ]
  },
  {
   "cell_type": "code",
   "execution_count": null,
   "metadata": {},
   "outputs": [],
   "source": [
    "for url in company_urls[1:20]:\n",
    "    print(read_url(url))"
   ]
  },
  {
   "cell_type": "code",
   "execution_count": null,
   "metadata": {},
   "outputs": [],
   "source": [
    "def check_string_in_list(string, arr):\n",
    "    arr = list(set(arr))\n",
    "    \n",
    "    for item in arr:\n",
    "        if string in item:\n",
    "            return item"
   ]
  },
  {
   "cell_type": "code",
   "execution_count": null,
   "metadata": {},
   "outputs": [],
   "source": [
    "def get_about(url):\n",
    "    url = \"http://\" + url\n",
    "    page = requests.get(url)\n",
    "    content = str(page.content)\n",
    "    w_page = html.fromstring(content)\n",
    "    w_pages = w_page.xpath(\"//a/@href\")\n",
    "    \n",
    "    # Problem iterating 3 times TODO\n",
    "    facebook = check_string_in_list(\"facebook\", w_pages)\n",
    "    instagram = check_string_in_list(\"instagram\", w_pages)\n",
    "    twitter = check_string_in_list(\"twitter\", w_pages)\n",
    "    impressium = check_string_in_list(\"impressum\", w_pages)\n",
    "    \n",
    "    return [facebook, instagram, twitter, url+impressium]"
   ]
  },
  {
   "cell_type": "code",
   "execution_count": null,
   "metadata": {},
   "outputs": [],
   "source": [
    "baeckerei_grobe = get_about(\"www.baeckerei-grobe.de/\")\n",
    "print(baeckerei_grobe)\n",
    "\n",
    "# TODO remove ../ from urls"
   ]
  },
  {
   "cell_type": "code",
   "execution_count": null,
   "metadata": {},
   "outputs": [],
   "source": [
    "def get_content(url):\n",
    "    page = requests.get(url)\n",
    "    content = str(page.content)\n",
    "    w_page = html.fromstring(content)\n",
    "    w_pages = w_page.xpath(\"//a/@href\")\n",
    "    \n",
    "    return content"
   ]
  },
  {
   "cell_type": "code",
   "execution_count": null,
   "metadata": {},
   "outputs": [],
   "source": [
    "print(get_content(\"http://www.baeckerei-grobe.de/pages/impressum.php\"))"
   ]
  },
  {
   "cell_type": "code",
   "execution_count": null,
   "metadata": {},
   "outputs": [],
   "source": []
  }
 ],
 "metadata": {
  "kernelspec": {
   "display_name": "Python 3",
   "language": "python",
   "name": "python3"
  },
  "language_info": {
   "codemirror_mode": {
    "name": "ipython",
    "version": 3
   },
   "file_extension": ".py",
   "mimetype": "text/x-python",
   "name": "python",
   "nbconvert_exporter": "python",
   "pygments_lexer": "ipython3",
   "version": "3.6.5"
  }
 },
 "nbformat": 4,
 "nbformat_minor": 2
}

{
 "cells": [
  {
   "cell_type": "code",
   "execution_count": 1,
   "metadata": {},
   "outputs": [],
   "source": [
    "from requests import get\n",
    "from requests.exceptions import RequestException\n",
    "from contextlib import closing\n",
    "from bs4 import BeautifulSoup\n",
    "from lxml import html\n",
    "import re\n",
    "import csv\n",
    "import pandas as pd"
   ]
  },
  {
   "cell_type": "code",
   "execution_count": 2,
   "metadata": {},
   "outputs": [],
   "source": [
    "def simple_get(url):\n",
    "    \"\"\"\n",
    "    Attempts to get the content at `url` by making an HTTP GET request.\n",
    "    If the content-type of response is some kind of HTML/XML, return the\n",
    "    text content, otherwise return None.\n",
    "    \"\"\"\n",
    "    try:\n",
    "        with closing(get(url, stream=True)) as resp:\n",
    "            if is_good_response(resp):\n",
    "                return resp.content\n",
    "            else:\n",
    "                return None\n",
    "\n",
    "    except RequestException as e:\n",
    "        log_error('Error during requests to {0} : {1}'.format(url, str(e)))\n",
    "        return None\n",
    "    \n",
    "def is_good_response(resp):\n",
    "    \"\"\"\n",
    "    Returns True if the response seems to be HTML, False otherwise.\n",
    "    \"\"\"\n",
    "    content_type = resp.headers['Content-Type'].lower()\n",
    "    return (resp.status_code == 200 \n",
    "            and content_type is not None \n",
    "            and content_type.find('html') > -1)\n",
    "\n",
    "def log_error(e):\n",
    "    \"\"\"\n",
    "    It is always a good idea to log errors. \n",
    "    This function just prints them, but you can\n",
    "    make it do anything.\n",
    "    \"\"\"\n",
    "    print(e)"
   ]
  },
  {
   "cell_type": "code",
   "execution_count": 3,
   "metadata": {},
   "outputs": [],
   "source": [
    "def get_all_links(soup, homepage):\n",
    "    pages = []\n",
    "    for item in soup.find_all('a'):\n",
    "        page = item.get('href')\n",
    "        if page[:3] == '../':\n",
    "            page = homepage + page[3:]\n",
    "        pages.append(page)\n",
    "    return list(set(pages))"
   ]
  },
  {
   "cell_type": "code",
   "execution_count": 4,
   "metadata": {},
   "outputs": [],
   "source": [
    "def get_url_info(url):\n",
    "    homepage = 'http://' + url\n",
    "    raw_html = simple_get(homepage)\n",
    "    \n",
    "    soup = BeautifulSoup(raw_html, 'html.parser')\n",
    "    \n",
    "    title = \"\"\n",
    "    \n",
    "#     print(text)\n",
    "#     print(html.title)\n",
    "#     print(html.get_text())\n",
    "#     print(html.find_all('a'))\n",
    "    \n",
    "    pages = get_all_links(soup, homepage)\n",
    "    \n",
    "    return pages"
   ]
  },
  {
   "cell_type": "code",
   "execution_count": 5,
   "metadata": {},
   "outputs": [
    {
     "name": "stdout",
     "output_type": "stream",
     "text": [
      "https://www.umwelt.nrw.de/landwirtschaft/ernaehrungswirtschaft/meisterwerknrw-ehrenpreis-des-landes-nrw/\n",
      "http://www.baeckerei-grobe.de/pages/aktuelles.php?id=141\n",
      "http://www.baeckerei-grobe.de/pages/aktuelles.php?id=143\n",
      "http://www.baeckerei-grobe.de/pages/produkte.php\n",
      "http://www.baeckerei-grobe.de/pages/grobe.php?id=2\n",
      "http://www.baeckerei-grobe.de/pages/grobe.php?id=1\n",
      "http://www.baeckerei-grobe.de/pages/kontakt.php\n",
      "http://www.baeckerei-grobe.de/pages/impressum.php\n",
      "http://www.baeckerei-grobe.de/pages/grobe.php?id=11\n",
      "http://www.baeckerei-grobe.de/pages/aktuelles.php\n",
      "http://www.baeckerei-grobe.de/pages/grobe.php?id=5\n",
      "http://www.baeckerei-grobe.de/pages/aktuelles.php?id=113\n",
      "https://www.facebook.com/Baeckermeister-Grobe-GmbH-CoKG-231016537300128/\n",
      "http://www.baeckerei-grobe.de/pages/aktuelles.php?id=132\n",
      "https://www.innungsbaecker.de/baeckerfinder/baecker/c2d3a2cd-915c-4f93-89ef-ae33c91d1e04/\n",
      "/\n",
      "http://www.baeckerei-grobe.de/pages/grobe.php?id=3\n",
      "http://www.baeckerei-grobe.de/pages/grobe.php?id=4\n",
      "http://www.baeckerei-grobe.de/pages/aktuelles.php?id=142\n",
      "http://www.baeckerei-grobe.de/pages/grobe.php\n"
     ]
    }
   ],
   "source": [
    "urls = get_url_info(\"www.baeckerei-grobe.de/\")\n",
    "\n",
    "for url in urls:\n",
    "    print(url)"
   ]
  },
  {
   "cell_type": "code",
   "execution_count": 6,
   "metadata": {},
   "outputs": [],
   "source": [
    "def get_company_urls(csv):\n",
    "    company_urls = []\n",
    "    \n",
    "    data = pd.read_csv('20181018 Domain+WZ2008 Hackathon INOBAS.csv', sep=';', encoding='latin1', names=['Domain', 'Section', 'Code'])\n",
    "    \n",
    "    for index, row in data.iterrows():\n",
    "        company_urls.append(row['Domain'])\n",
    "        \n",
    "    return company_urls"
   ]
  },
  {
   "cell_type": "code",
   "execution_count": 7,
   "metadata": {},
   "outputs": [],
   "source": [
    "def check_string_in_list(string, arr):\n",
    "    arr = list(set(arr))\n",
    "    \n",
    "    for item in arr:\n",
    "        if string in item:\n",
    "            return item"
   ]
  },
  {
   "cell_type": "code",
   "execution_count": 8,
   "metadata": {},
   "outputs": [],
   "source": [
    "def get_company_sites(str_list, pages):\n",
    "    sites = []\n",
    "    \n",
    "    for item in str_list:\n",
    "        # Problem iterating 3 times TODO\n",
    "        site = check_string_in_list(item, pages)\n",
    "        sites.append(site)\n",
    "    \n",
    "    return sites"
   ]
  },
  {
   "cell_type": "code",
   "execution_count": 9,
   "metadata": {},
   "outputs": [
    {
     "name": "stdout",
     "output_type": "stream",
     "text": [
      "['https://www.facebook.com/Baeckermeister-Grobe-GmbH-CoKG-231016537300128/', 'http://www.baeckerei-grobe.de/pages/impressum.php']\n"
     ]
    }
   ],
   "source": [
    "baeckerei_grobe = get_company_sites(['facebook', 'impressum'], urls)\n",
    "print(baeckerei_grobe)"
   ]
  },
  {
   "cell_type": "code",
   "execution_count": null,
   "metadata": {},
   "outputs": [],
   "source": []
  }
 ],
 "metadata": {
  "kernelspec": {
   "display_name": "Python 3",
   "language": "python",
   "name": "python3"
  },
  "language_info": {
   "codemirror_mode": {
    "name": "ipython",
    "version": 3
   },
   "file_extension": ".py",
   "mimetype": "text/x-python",
   "name": "python",
   "nbconvert_exporter": "python",
   "pygments_lexer": "ipython3",
   "version": "3.6.5"
  }
 },
 "nbformat": 4,
 "nbformat_minor": 2
}

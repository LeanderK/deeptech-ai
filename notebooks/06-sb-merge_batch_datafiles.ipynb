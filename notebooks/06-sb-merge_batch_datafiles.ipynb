{
 "cells": [
  {
   "cell_type": "markdown",
   "metadata": {},
   "source": [
    "# TODOS\n",
    "- remove captions with confidence < 0.5"
   ]
  },
  {
   "cell_type": "code",
   "execution_count": 26,
   "metadata": {
    "scrolled": false
   },
   "outputs": [],
   "source": [
    "import tensorflow as tf\n",
    "import numpy as np\n",
    "import os\n",
    "import time\n",
    "import datetime\n",
    "# import data_helpers\n",
    "from tensorflow.contrib import learn\n",
    "import csv\n",
    "from pathlib import Path \n",
    "import gensim\n",
    "import pickle\n",
    "import pandas as pd\n",
    "from sklearn import preprocessing\n",
    "import re\n",
    "import numpy as np"
   ]
  },
  {
   "cell_type": "code",
   "execution_count": 27,
   "metadata": {},
   "outputs": [],
   "source": [
    "data_files = [\n",
    "    os.path.join(Path(os.getcwd()).parent.parent, 'deeptech-ai-data', 'img_data_{}.npy'.format(i)) for i in range(1, 7)\n",
    "]"
   ]
  },
  {
   "cell_type": "code",
   "execution_count": 28,
   "metadata": {},
   "outputs": [
    {
     "data": {
      "text/plain": [
       "['/home/sandro/Projekte/github_projects/deeptech-ai-data/img_data_1.npy',\n",
       " '/home/sandro/Projekte/github_projects/deeptech-ai-data/img_data_2.npy',\n",
       " '/home/sandro/Projekte/github_projects/deeptech-ai-data/img_data_3.npy',\n",
       " '/home/sandro/Projekte/github_projects/deeptech-ai-data/img_data_4.npy',\n",
       " '/home/sandro/Projekte/github_projects/deeptech-ai-data/img_data_5.npy',\n",
       " '/home/sandro/Projekte/github_projects/deeptech-ai-data/img_data_6.npy']"
      ]
     },
     "execution_count": 28,
     "metadata": {},
     "output_type": "execute_result"
    }
   ],
   "source": [
    "data_files"
   ]
  },
  {
   "cell_type": "code",
   "execution_count": 29,
   "metadata": {},
   "outputs": [],
   "source": [
    "data_batches = [np.load(f) for f in data_files]\n",
    "merged = np.concatenate(data_batches)"
   ]
  },
  {
   "cell_type": "code",
   "execution_count": 30,
   "metadata": {},
   "outputs": [],
   "source": [
    "np.save(os.path.join(Path(os.getcwd()).parent.parent, 'deeptech-ai-data', 'merged_data'), merged)"
   ]
  }
 ],
 "metadata": {
  "kernelspec": {
   "display_name": "Python [conda env:deeptachai]",
   "language": "python",
   "name": "conda-env-deeptachai-py"
  },
  "language_info": {
   "codemirror_mode": {
    "name": "ipython",
    "version": 3
   },
   "file_extension": ".py",
   "mimetype": "text/x-python",
   "name": "python",
   "nbconvert_exporter": "python",
   "pygments_lexer": "ipython3",
   "version": "3.6.6"
  }
 },
 "nbformat": 4,
 "nbformat_minor": 2
}
